{
 "cells": [
  {
   "cell_type": "markdown",
   "id": "9568cbb1",
   "metadata": {},
   "source": [
    "## Bag of words"
   ]
  },
  {
   "cell_type": "code",
   "execution_count": null,
   "id": "326b5538",
   "metadata": {},
   "outputs": [],
   "source": [
    "import nltk "
   ]
  }
 ],
 "metadata": {
  "language_info": {
   "name": "python"
  }
 },
 "nbformat": 4,
 "nbformat_minor": 5
}
