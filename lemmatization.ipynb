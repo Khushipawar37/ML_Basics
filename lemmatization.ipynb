{
 "cells": [
  {
   "cell_type": "markdown",
   "id": "ed8af49e",
   "metadata": {},
   "source": [
    "## Lemmatization\n"
   ]
  },
  {
   "cell_type": "code",
   "execution_count": null,
   "id": "1083063b",
   "metadata": {},
   "outputs": [
    {
     "name": "stdout",
     "output_type": "stream",
     "text": [
      "going\n",
      "eating -> eat\n",
      "eats -> eat\n",
      "eaten -> eat\n",
      "writing -> write\n",
      "writes -> write\n",
      "written -> write\n",
      "programming -> program\n",
      "programs -> program\n",
      "history -> history\n"
     ]
    }
   ],
   "source": [
    "from nltk.stem import WordNetLemmatizer\n",
    "\n",
    "lemmatizer = WordNetLemmatizer()\n",
    "\n",
    "going = lemmatizer.lemmatize('going', pos='n')\n",
    "print(going)\n",
    " \n",
    "words = ['eating', 'eats', 'eaten', 'writing', 'writes', 'written', 'programming', 'programs', 'history']\n",
    "\n",
    "for word in words:\n",
    "    print(f\"{word} -> {lemmatizer.lemmatize(word,pos='v')}\")"
   ]
  },
  {
   "cell_type": "code",
   "execution_count": null,
   "id": "5895edd7",
   "metadata": {},
   "outputs": [],
   "source": []
  }
 ],
 "metadata": {
  "kernelspec": {
   "display_name": "venv",
   "language": "python",
   "name": "python3"
  },
  "language_info": {
   "codemirror_mode": {
    "name": "ipython",
    "version": 3
   },
   "file_extension": ".py",
   "mimetype": "text/x-python",
   "name": "python",
   "nbconvert_exporter": "python",
   "pygments_lexer": "ipython3",
   "version": "3.13.5"
  }
 },
 "nbformat": 4,
 "nbformat_minor": 5
}
